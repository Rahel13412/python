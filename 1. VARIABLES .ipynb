{
 "cells": [
  {
   "cell_type": "code",
   "execution_count": 18,
   "id": "59bb14c9",
   "metadata": {},
   "outputs": [],
   "source": [
    "# DAY 1 : Printing , Commenting , Debugging , String Manipulation and Variables "
   ]
  },
  {
   "cell_type": "code",
   "execution_count": 19,
   "id": "91f2397b",
   "metadata": {},
   "outputs": [
    {
     "name": "stdout",
     "output_type": "stream",
     "text": [
      "Hello world!\n"
     ]
    }
   ],
   "source": [
    "print(\"Hello world!\")   # print() function in used to print string in console "
   ]
  },
  {
   "cell_type": "code",
   "execution_count": 20,
   "id": "a0857276",
   "metadata": {},
   "outputs": [
    {
     "name": "stdout",
     "output_type": "stream",
     "text": [
      "Hello world!\n",
      "Hello world!\n",
      "Hello world!\n"
     ]
    }
   ],
   "source": [
    "print(\"Hello world!\\nHello world!\\nHello world!\")    "
   ]
  },
  {
   "cell_type": "code",
   "execution_count": 21,
   "id": "fc1791d8",
   "metadata": {},
   "outputs": [
    {
     "name": "stdout",
     "output_type": "stream",
     "text": [
      "HelloRahel\n"
     ]
    }
   ],
   "source": [
    "print(\"Hello\"+\"Rahel\") # srting concatenation "
   ]
  },
  {
   "cell_type": "code",
   "execution_count": 22,
   "id": "46a8d89e",
   "metadata": {},
   "outputs": [
    {
     "name": "stdout",
     "output_type": "stream",
     "text": [
      "Hello Rahel\n"
     ]
    }
   ],
   "source": [
    "print(\"Hello\"+\" \"+\"Rahel\")"
   ]
  },
  {
   "cell_type": "code",
   "execution_count": 23,
   "id": "466b0dea",
   "metadata": {},
   "outputs": [
    {
     "name": "stdout",
     "output_type": "stream",
     "text": [
      "Hello Rahel\n"
     ]
    }
   ],
   "source": [
    "print(\"Hello \"+\"Rahel\")   # having  spaces by giving space after o   "
   ]
  },
  {
   "cell_type": "code",
   "execution_count": 24,
   "id": "2755391f",
   "metadata": {},
   "outputs": [
    {
     "name": "stdout",
     "output_type": "stream",
     "text": [
      "What is your name ? RAHEL\n"
     ]
    },
    {
     "data": {
      "text/plain": [
       "'RAHEL'"
      ]
     },
     "execution_count": 24,
     "metadata": {},
     "output_type": "execute_result"
    }
   ],
   "source": [
    "input(\"What is your name ? \")     # input() function used to take input from the user "
   ]
  },
  {
   "cell_type": "code",
   "execution_count": 26,
   "id": "dca4aa85",
   "metadata": {},
   "outputs": [
    {
     "name": "stdout",
     "output_type": "stream",
     "text": [
      "What is your name ? Rahel\n",
      "Hello Rahel\n"
     ]
    }
   ],
   "source": [
    "print(\"Hello \"+input(\"What is your name ? \"))"
   ]
  },
  {
   "cell_type": "code",
   "execution_count": 27,
   "id": "82ce0955",
   "metadata": {},
   "outputs": [
    {
     "name": "stdout",
     "output_type": "stream",
     "text": [
      "What is your name ?Rahel\n",
      "5\n"
     ]
    }
   ],
   "source": [
    "print(len(input(\"What is your name ?\")))    \"\"\" len() function returns the length of a srting by \n",
    "                                                counting characters in a string \"\"\" \n"
   ]
  },
  {
   "cell_type": "code",
   "execution_count": 28,
   "id": "e2c750ba",
   "metadata": {},
   "outputs": [
    {
     "name": "stdout",
     "output_type": "stream",
     "text": [
      "7\n"
     ]
    }
   ],
   "source": [
    "print(len(\"lu cky \"))    # len() function also counts the space "
   ]
  },
  {
   "cell_type": "code",
   "execution_count": 30,
   "id": "309e4507",
   "metadata": {},
   "outputs": [
    {
     "name": "stdout",
     "output_type": "stream",
     "text": [
      "rahel\n"
     ]
    }
   ],
   "source": [
    "names = \"rahel\" # variables are the containers that store data \n",
    "print(names)"
   ]
  },
  {
   "cell_type": "code",
   "execution_count": 33,
   "id": "f48b81d7",
   "metadata": {},
   "outputs": [
    {
     "name": "stdout",
     "output_type": "stream",
     "text": [
      "x = 5\n",
      "y = 3\n"
     ]
    }
   ],
   "source": [
    "# swap two variables values in python \n",
    "x = 3 \n",
    "y = 5 \n",
    "x,y = y,x \n",
    "print(f\"x = {x}\\ny = {y}\")\n"
   ]
  },
  {
   "cell_type": "code",
   "execution_count": 1,
   "id": "258bfd8f",
   "metadata": {},
   "outputs": [
    {
     "name": "stdout",
     "output_type": "stream",
     "text": [
      "Welcome to the Band Name Generator.\n",
      "what's name of the city you grew up in ?kolkatta \n",
      "what's your pet name ?tommy\n",
      "your band name could be kolkatta tommy\n"
     ]
    }
   ],
   "source": [
    "# Day-1 project : Band Name Generator\n",
    "\n",
    "print(\"Welcome to the Band Name Generator.\")\n",
    "city_name = input(\"what's name of the city you grew up in ?\")\n",
    "pet_name = input(\"what's your pet name ?\")\n",
    "print(\"your band name could be \"+city_name +pet_name)\n"
   ]
  },
  {
   "cell_type": "code",
   "execution_count": null,
   "id": "ec5f4834",
   "metadata": {},
   "outputs": [],
   "source": []
  }
 ],
 "metadata": {
  "kernelspec": {
   "display_name": "Python 3 (ipykernel)",
   "language": "python",
   "name": "python3"
  },
  "language_info": {
   "codemirror_mode": {
    "name": "ipython",
    "version": 3
   },
   "file_extension": ".py",
   "mimetype": "text/x-python",
   "name": "python",
   "nbconvert_exporter": "python",
   "pygments_lexer": "ipython3",
   "version": "3.9.7"
  }
 },
 "nbformat": 4,
 "nbformat_minor": 5
}
