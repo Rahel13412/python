{
 "cells": [
  {
   "cell_type": "markdown",
   "id": "7ff55293",
   "metadata": {},
   "source": [
    "# Function "
   ]
  },
  {
   "cell_type": "code",
   "execution_count": 5,
   "id": "65fef378",
   "metadata": {},
   "outputs": [
    {
     "name": "stdout",
     "output_type": "stream",
     "text": [
      "this will run\n"
     ]
    }
   ],
   "source": [
    "def my_function():    # defining my function \n",
    "    a = 3 \n",
    "    if a > 2 :\n",
    "        print(\"this will run\")    # calling my function \n",
    "my_function()"
   ]
  },
  {
   "cell_type": "markdown",
   "id": "b62e3912",
   "metadata": {},
   "source": [
    "# While Loop"
   ]
  },
  {
   "cell_type": "raw",
   "id": "61a92365",
   "metadata": {},
   "source": [
    "General syntax :\n",
    "while something_is_true:\n",
    "        # do something repeatedly"
   ]
  },
  {
   "cell_type": "code",
   "execution_count": 3,
   "id": "0fc108d2",
   "metadata": {},
   "outputs": [
    {
     "name": "stdout",
     "output_type": "stream",
     "text": [
      "the word is camel\n",
      "Enter a letter: c\n",
      "['c', '_', '_', '_', '_']\n",
      "Enter a letter: a\n",
      "['c', 'a', '_', '_', '_']\n",
      "Enter a letter: m\n",
      "['c', 'a', 'm', '_', '_']\n",
      "Enter a letter: t\n",
      "yourguess lettert not in the word.so you loose a life and remaining life is5\n",
      "['c', 'a', 'm', '_', '_']\n",
      "Enter a letter: g\n",
      "yourguess letterg not in the word.so you loose a life and remaining life is4\n",
      "['c', 'a', 'm', '_', '_']\n",
      "Enter a letter: l\n",
      "['c', 'a', 'm', '_', 'l']\n",
      "Enter a letter: e\n",
      "['c', 'a', 'm', 'e', 'l']\n",
      "you win\n"
     ]
    }
   ],
   "source": [
    "# Hangamn program\n",
    "import random \n",
    "# challage 1 : picking up a random word and checking the answer \n",
    "word_list = [\"apple\",\"baboon\",\"camel\"]\n",
    "random_word = random.choice(word_list)\n",
    "print(f\"the word is {random_word}\")\n",
    "display = []\n",
    "for i in range(0,len(random_word)):\n",
    "    display.append(\"_\")\n",
    "#print(display)\n",
    "lives = 6\n",
    "end_of_game = False \n",
    "while not end_of_game :\n",
    "    letter = input(\"Enter a letter: \").lower()\n",
    "    for i in range(len(random_word)) :\n",
    "        if random_word[i]== letter:\n",
    "            #print(\"right\")\n",
    "            display[i]=letter\n",
    "    if letter not in random_word:\n",
    "            lives-=1\n",
    "            print(f\"yourguess letter{letter} not in the word.so you loose a life and remaining life is{lives}\")\n",
    "\n",
    "            if lives == 0:\n",
    "                end_of_game = True \n",
    "                print(\"you loose!\")\n",
    "            \n",
    "    \n",
    "            \n",
    "            \n",
    "    \n",
    "    print(display)\n",
    "    if \"_\" not in display:\n",
    "        end_of_game = True\n",
    "    \n",
    "        print(\"you win\")\n",
    "        "
   ]
  },
  {
   "cell_type": "code",
   "execution_count": null,
   "id": "323eeede",
   "metadata": {},
   "outputs": [],
   "source": []
  }
 ],
 "metadata": {
  "kernelspec": {
   "display_name": "Python 3 (ipykernel)",
   "language": "python",
   "name": "python3"
  },
  "language_info": {
   "codemirror_mode": {
    "name": "ipython",
    "version": 3
   },
   "file_extension": ".py",
   "mimetype": "text/x-python",
   "name": "python",
   "nbconvert_exporter": "python",
   "pygments_lexer": "ipython3",
   "version": "3.9.7"
  }
 },
 "nbformat": 4,
 "nbformat_minor": 5
}
