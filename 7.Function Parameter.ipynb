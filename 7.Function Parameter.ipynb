{
 "cells": [
  {
   "cell_type": "markdown",
   "id": "24291d5c",
   "metadata": {},
   "source": [
    "# Function with input"
   ]
  },
  {
   "cell_type": "code",
   "execution_count": 13,
   "id": "b8022a17",
   "metadata": {},
   "outputs": [
    {
     "name": "stdout",
     "output_type": "stream",
     "text": [
      "hello\n",
      "how to you do\n",
      "Isn't the weather nice today\n"
     ]
    }
   ],
   "source": [
    "# simple function\n",
    "def greet():\n",
    "    print(\"hello\")\n",
    "    print(\"how to you do\")\n",
    "    print(\"Isn't the weather nice today\")\n",
    "greet()"
   ]
  },
  {
   "cell_type": "code",
   "execution_count": 14,
   "id": "fcca7229",
   "metadata": {},
   "outputs": [
    {
     "name": "stdout",
     "output_type": "stream",
     "text": [
      "Hello rahel!\n",
      "how to you do rahel\n"
     ]
    }
   ],
   "source": [
    "# Function that allows for input \n",
    "def greet_with_name(name):       # name is the parameter \n",
    "    print(f\"Hello {name}!\")\n",
    "    print(f\"how to you do {name}\")\n",
    "greet_with_name(\"rahel\")           # \"rahel\" is the argument \n",
    "    "
   ]
  },
  {
   "cell_type": "raw",
   "id": "cd15d48d",
   "metadata": {},
   "source": [
    "A parameteer is the variable listed inside the parantheses in the function definition . \n",
    "A argument is the valve that is send when the function is called."
   ]
  },
  {
   "cell_type": "code",
   "execution_count": 15,
   "id": "ea8b4e9a",
   "metadata": {},
   "outputs": [
    {
     "name": "stdout",
     "output_type": "stream",
     "text": [
      "hello rahel\n",
      "what it is like in kolkata\n"
     ]
    }
   ],
   "source": [
    "# Function with more than 1 input \n",
    "def greet_with(name,location):\n",
    "    print(f\"hello {name}\")\n",
    "    print(f\"what it is like in {location}\")\n",
    "    \n",
    "greet_with(\"rahel\",\"kolkata\")  # positional argument : we have to send the valve in which the parameter are order"
   ]
  },
  {
   "cell_type": "code",
   "execution_count": 16,
   "id": "63d8cc33",
   "metadata": {},
   "outputs": [
    {
     "name": "stdout",
     "output_type": "stream",
     "text": [
      "3\n",
      "1\n",
      "2\n"
     ]
    }
   ],
   "source": [
    "# Function with more than 1 input \n",
    "def my_function(a,b,c):\n",
    "    print(c)\n",
    "    print(a)\n",
    "    print(b)\n",
    "my_function(b =2,c=3,a=1) # keyword argument    "
   ]
  },
  {
   "cell_type": "code",
   "execution_count": 22,
   "id": "87cad78e",
   "metadata": {},
   "outputs": [
    {
     "name": "stdout",
     "output_type": "stream",
     "text": [
      "Height of the wall in meter: 2\n",
      "width of the wall in meter: 4\n",
      "to paint 8 square meter you will need 2 cans.\n"
     ]
    }
   ],
   "source": [
    "# paint area calculator : coding exercise \n",
    " \n",
    "def paint_cal(height,width,covorage):\n",
    "    area = (height*width)\n",
    "    number_of_cans = round(area/5)\n",
    "    print(f\"to paint {area} square meter you will need {number_of_cans} cans.\")\n",
    "    \n",
    "test_height = int(input(\"Height of the wall in meter: \"))\n",
    "test_width = int(input(\"width of the wall in meter: \"))\n",
    "covarage = 5    \n",
    "    \n",
    "paint_cal(height=test_height,width=test_width,covorage=covarage)   "
   ]
  },
  {
   "cell_type": "code",
   "execution_count": 28,
   "id": "1918e5b0",
   "metadata": {},
   "outputs": [
    {
     "name": "stdout",
     "output_type": "stream",
     "text": [
      "enter the number : 3\n",
      "3 it is a prime number.\n"
     ]
    }
   ],
   "source": [
    "# prime number checker : coding exercise \n",
    "def prime_checker(number):\n",
    "    is_prime = True\n",
    "    for i in range(2,number):\n",
    "        if number % i == 0 :\n",
    "            is_prime = False \n",
    "            \n",
    "    if is_prime:\n",
    "        print(f\"{num} it is a prime number.\")\n",
    "    else :\n",
    "        print(f\"{num} it is not a prime number.\")\n",
    "\n",
    "num = int(input(\"enter the number : \")) \n",
    "prime_checker(num)"
   ]
  },
  {
   "cell_type": "code",
   "execution_count": 1,
   "id": "4ebfc9aa",
   "metadata": {},
   "outputs": [
    {
     "name": "stdout",
     "output_type": "stream",
     "text": [
      "type 'e' for encode and type 'd' for decode: e\n",
      "Enter your text:hello\n",
      "Enter the shift number :5\n",
      "mjqqt\n",
      "To continue encoding decoding type 'y' or 'n' to stop: y\n",
      "type 'e' for encode and type 'd' for decode: d\n",
      "Enter your text:mjqqt\n",
      "Enter the shift number :5\n",
      "hello\n",
      "To continue encoding decoding type 'y' or 'n' to stop: n\n"
     ]
    }
   ],
   "source": [
    "# Caesar Ciper coding exercise :\n",
    "alphabet = ['a', 'b', 'c', 'd', 'e', 'f', 'g', 'h', 'i', 'j', 'k', 'l', 'm', 'n', 'o', 'p', 'q', 'r', 's', 't', 'u', 'v', 'w', 'x', 'y', 'z']\n",
    "alphabet_1 = alphabet*2\n",
    "#alphabet[0+3]\n",
    "def encode(text,shift):\n",
    "    encode_text = \"\"\n",
    "    for letter in text:\n",
    "        letter_index = alphabet.index(letter)\n",
    "        encode_letter_index = letter_index+shift            \n",
    "        encode_letter = alphabet_1[encode_letter_index]\n",
    "        encode_text+=encode_letter\n",
    "    print(encode_text)\n",
    "    \n",
    "def decode(text,shift):\n",
    "    decode_text = \"\"\n",
    "    for letter in text:\n",
    "        letter_index = alphabet_1.index(letter)\n",
    "        decode_letter_index = letter_index - shift\n",
    "        decode_letter = alphabet[decode_letter_index]\n",
    "        decode_text+=decode_letter\n",
    "    print(decode_text)\n",
    "continue_task = True\n",
    "while continue_task:\n",
    "    coice = input(\"type 'e' for encode and type 'd' for decode: \")\n",
    "    user_text = input(\"Enter your text:\")\n",
    "    shift = int(input(\"Enter the shift number :\"))\n",
    "    \n",
    "    if coice == \"e\":\n",
    "        encode(text=user_text,shift=shift)\n",
    "    else:\n",
    "        decode(text=user_text,shift=shift)\n",
    "    user_input = input(\"To continue encoding decoding type 'y' or 'n' to stop: \")\n",
    "    if user_input == \"n\":\n",
    "        continue_task = False\n",
    "    \n"
   ]
  },
  {
   "cell_type": "code",
   "execution_count": null,
   "id": "25298122",
   "metadata": {},
   "outputs": [],
   "source": []
  },
  {
   "cell_type": "code",
   "execution_count": null,
   "id": "c676c380",
   "metadata": {},
   "outputs": [],
   "source": []
  },
  {
   "cell_type": "code",
   "execution_count": null,
   "id": "f2cb99f1",
   "metadata": {},
   "outputs": [],
   "source": []
  }
 ],
 "metadata": {
  "kernelspec": {
   "display_name": "Python 3 (ipykernel)",
   "language": "python",
   "name": "python3"
  },
  "language_info": {
   "codemirror_mode": {
    "name": "ipython",
    "version": 3
   },
   "file_extension": ".py",
   "mimetype": "text/x-python",
   "name": "python",
   "nbconvert_exporter": "python",
   "pygments_lexer": "ipython3",
   "version": "3.9.7"
  }
 },
 "nbformat": 4,
 "nbformat_minor": 5
}
