{
 "cells": [
  {
   "cell_type": "markdown",
   "id": "03962991",
   "metadata": {},
   "source": [
    "# For Loop"
   ]
  },
  {
   "cell_type": "code",
   "execution_count": 4,
   "id": "d68ae542",
   "metadata": {},
   "outputs": [
    {
     "name": "stdout",
     "output_type": "stream",
     "text": [
      "apple\n",
      "applepie\n",
      "peach\n",
      "peachpie\n",
      "pear\n",
      "pearpie\n",
      "['apple', 'peach', 'pear']\n"
     ]
    }
   ],
   "source": [
    "fruits = [\"apple\",\"peach\",\"pear\"]\n",
    "for fruit in fruits:\n",
    "    print(fruit)\n",
    "    print(fruit+\"pie\")\n",
    "print(fruits)"
   ]
  },
  {
   "cell_type": "code",
   "execution_count": 3,
   "id": "c4e56b5f",
   "metadata": {},
   "outputs": [
    {
     "name": "stdout",
     "output_type": "stream",
     "text": [
      "Enter the students height seperated by comma.180 124 165 173 189 169 146\n",
      "So the students avarage height is 164\n"
     ]
    }
   ],
   "source": [
    "# Avarage Height Coding Exercise \n",
    "students_height  = input(\"Enter the students height seperated by comma.\").split()\n",
    "sum = 0 \n",
    "for i in range(0,len(students_height)):\n",
    "    student_height = int(students_height[i])\n",
    "    sum+=student_height\n",
    "    \n",
    "avarage =round(sum / (len(students_height)))\n",
    "print(f\"So the students avarage height is {avarage}\")    "
   ]
  },
  {
   "cell_type": "code",
   "execution_count": 14,
   "id": "40219c12",
   "metadata": {},
   "outputs": [
    {
     "name": "stdout",
     "output_type": "stream",
     "text": [
      "Enter the score seperated by comma.76 65 89 86 55 91 64 89\n",
      "[76, 65, 89, 86, 55, 91, 64, 89]\n",
      "the greatest score is 91\n"
     ]
    }
   ],
   "source": [
    "# Highest score coding exercise \n",
    "score_list = input(\"Enter the score seperated by comma.\").split()\n",
    "for i in range(len(score_list)):\n",
    "    score_list[i] = int(score_list[i])\n",
    "print(score_list)\n",
    "highest_score = 0\n",
    "for score in score_list:\n",
    "    if score > highest_score:\n",
    "        highest_score = score\n",
    "print(f\"the greatest score is {highest_score}\")\n"
   ]
  },
  {
   "cell_type": "code",
   "execution_count": 22,
   "id": "d62f4f58",
   "metadata": {},
   "outputs": [
    {
     "name": "stdout",
     "output_type": "stream",
     "text": [
      "5050\n"
     ]
    }
   ],
   "source": [
    "total = 0 \n",
    "for i in range(1,101):\n",
    "    total+=i\n",
    "print(total)"
   ]
  },
  {
   "cell_type": "code",
   "execution_count": 28,
   "id": "fedc3c21",
   "metadata": {},
   "outputs": [
    {
     "name": "stdout",
     "output_type": "stream",
     "text": [
      "sum of even numner between 0 to 100 is 2550\n",
      "sum of odd numner between 0 to 100 is 2500 \n"
     ]
    }
   ],
   "source": [
    "even_sum = 0 \n",
    "odd_sum = 0\n",
    "for i in range(1,101):\n",
    "    if i % 2 == 0:\n",
    "        even_sum+=i\n",
    "    else:\n",
    "        odd_sum+=i\n",
    "print(f\"sum of even numner between 0 to 100 is {even_sum}\\nsum of odd numner between 0 to 100 is {odd_sum} \")"
   ]
  },
  {
   "cell_type": "code",
   "execution_count": 31,
   "id": "57848f50",
   "metadata": {},
   "outputs": [
    {
     "name": "stdout",
     "output_type": "stream",
     "text": [
      "1\n",
      "2\n",
      "Fizz \n",
      "4\n",
      "Buzz\n",
      "Fizz \n",
      "7\n",
      "8\n",
      "Fizz \n",
      "Buzz\n",
      "11\n",
      "Fizz \n",
      "13\n",
      "14\n",
      "Fizz Buzz\n",
      "16\n",
      "17\n",
      "Fizz \n",
      "19\n",
      "Buzz\n"
     ]
    }
   ],
   "source": [
    "# the FizzBuzz job interview question \n",
    "for i in range(1,21):\n",
    "    if i % 3 == 0 and i % 5 == 0 :\n",
    "        print(\"Fizz Buzz\")\n",
    "    elif i % 5 == 0:\n",
    "        print(\"Buzz\")\n",
    "    elif i % 3 == 0 :\n",
    "        print(\"Fizz \")\n",
    "    else:\n",
    "        print(i)\n",
    "        \n"
   ]
  },
  {
   "cell_type": "code",
   "execution_count": 12,
   "id": "8783fd2f",
   "metadata": {},
   "outputs": [
    {
     "name": "stdout",
     "output_type": "stream",
     "text": [
      "Welcome to the PyPassword Generator!\n",
      "How many letters would you like in your password?\n",
      "3\n",
      "How many symbols would you like?\n",
      "3\n",
      "How many numbers would you like?\n",
      "3\n",
      "your password is d#4r4Q4%$\n"
     ]
    }
   ],
   "source": [
    "# Password Generator \n",
    "import random\n",
    "letters = ['a', 'b', 'c', 'd', 'e', 'f', 'g', 'h', 'i', 'j', 'k', 'l', 'm', 'n', 'o', 'p', 'q', 'r', 's', 't', 'u', 'v', 'w', 'x', 'y', 'z', 'A', 'B', 'C', 'D', 'E', 'F', 'G', 'H', 'I', 'J', 'K', 'L', 'M', 'N', 'O', 'P', 'Q', 'R', 'S', 'T', 'U', 'V', 'W', 'X', 'Y', 'Z']\n",
    "numbers = ['0', '1', '2', '3', '4', '5', '6', '7', '8', '9']\n",
    "symbols = ['!', '#', '$', '%', '&', '(', ')', '*', '+']\n",
    "print(\"Welcome to the PyPassword Generator!\")\n",
    "nr_letters= int(input(\"How many letters would you like in your password?\\n\")) \n",
    "nr_symbols = int(input(f\"How many symbols would you like?\\n\"))\n",
    "nr_numbers = int(input(f\"How many numbers would you like?\\n\"))\n",
    "password_list = []\n",
    "for i in range(nr_letters):\n",
    "    letter = random.choice(letters)\n",
    "    password_list.append(letter)\n",
    "\n",
    "for i in range(nr_symbols):\n",
    "    symbol = random.choice(symbols)\n",
    "    password_list.append(symbol)\n",
    "for i in range(nr_numbers):\n",
    "    number = random.choice(numbers)\n",
    "    password_list.append(number)\n",
    "#print(password_list) \n",
    "random.shuffle(password_list)\n",
    "#print(password_list)\n",
    "password_string = \"\"\n",
    "for item in password_list:\n",
    "    password_string+=item\n",
    "print(f\"your password is {password_string}\")"
   ]
  },
  {
   "cell_type": "code",
   "execution_count": 19,
   "id": "1e0657e5",
   "metadata": {},
   "outputs": [
    {
     "name": "stdout",
     "output_type": "stream",
     "text": [
      "['jackfruit', 'apple', 'bananna', 'cherry']\n"
     ]
    }
   ],
   "source": [
    "import random \n",
    "fruits = [\"apple\",\"bananna\",\"cherry\",\"jackfruit\"]\n",
    "random.shuffle(fruits)\n",
    "print(fruits)"
   ]
  },
  {
   "cell_type": "code",
   "execution_count": null,
   "id": "af3c53c5",
   "metadata": {},
   "outputs": [],
   "source": []
  }
 ],
 "metadata": {
  "kernelspec": {
   "display_name": "Python 3 (ipykernel)",
   "language": "python",
   "name": "python3"
  },
  "language_info": {
   "codemirror_mode": {
    "name": "ipython",
    "version": 3
   },
   "file_extension": ".py",
   "mimetype": "text/x-python",
   "name": "python",
   "nbconvert_exporter": "python",
   "pygments_lexer": "ipython3",
   "version": "3.9.7"
  }
 },
 "nbformat": 4,
 "nbformat_minor": 5
}
