{
 "cells": [
  {
   "cell_type": "code",
   "execution_count": 1,
   "id": "0acababf",
   "metadata": {},
   "outputs": [
    {
     "name": "stdout",
     "output_type": "stream",
     "text": [
      " your card : [5, 3] , current score : 8\n",
      " computer's first card : 4\n",
      "Type 'y' to get another card type 'n' to pass :y\n",
      " your card : [5, 3, 5] , current score : 13\n",
      " computer's first card : 4\n",
      "Type 'y' to get another card type 'n' to pass :n\n",
      " your final hand:[5, 3, 5] , final_score:13\n",
      "computer final hand;[4, 4, 4, 10] , final_score:22\n",
      "opponent went over\n"
     ]
    }
   ],
   "source": [
    "import random \n",
    "def deal_card():\n",
    "    cards = [11, 2, 3, 4, 5, 6, 7, 8, 9, 10,   10, 10, 10]\n",
    "    card = random.choice(cards)\n",
    "    return card\n",
    "\n",
    "\n",
    "\n",
    "user_card = []\n",
    "computer_card = []\n",
    "for _ in range(2):\n",
    "    user_card.append(deal_card())\n",
    "    computer_card.append(deal_card())\n",
    "   \n",
    "    \n",
    "def calculate_score(cards):\n",
    "    if sum(cards)==21 and len(cards)==2:\n",
    "        return 0\n",
    "    if 11 in cards and sum(cards)>21:\n",
    "        cards.remove(11)\n",
    "        cards.append(1)\n",
    "    return sum(cards)\n",
    "\n",
    "def compare(user_score,computer_score):\n",
    "    if user_score == computer_score:\n",
    "        return \"Draw\"\n",
    "    elif computer_score == 0:\n",
    "        return \"lose, oponent has a Blackjack\"\n",
    "    elif user_score == 0:\n",
    "        return \"win with a balckjack\"\n",
    "    elif user_score>21:\n",
    "        return(\"you went over\")\n",
    "    elif computer_score > 21:\n",
    "        return \"opponent went over!you win\"\n",
    "    elif user_score > computer_score:\n",
    "        return \"you win\"\n",
    "    else:\n",
    "        return \"you loose\"\n",
    "\n",
    "is_game_over = False\n",
    "while not is_game_over:\n",
    "    user_score = calculate_score(user_card)\n",
    "    computer_score = calculate_score(user_card)\n",
    "    print(f\" your card : {user_card} , current score : {user_score}\")\n",
    "    print(f\" computer's first card : {computer_card[0]}\")\n",
    "    if user_score == 0 or computer_score == 0 or user_score > 21 :\n",
    "        is_game_over = True\n",
    "    else:\n",
    "        user_input = input(\"Type 'y' to get another card type 'n' to pass :\")\n",
    "        if user_input == \"y\":\n",
    "            user_card.append(deal_card())\n",
    "\n",
    "        else:\n",
    "            is_game_over = True\n",
    "        \n",
    "while computer_score != 0 and computer_score<17:\n",
    "    computer_card.append(deal_card())\n",
    "    computer_score = calculate_score(computer_card)\n",
    "print(f\" your final hand:{user_card} , final_score:{user_score}\") \n",
    "print(f\"computer final hand;{computer_card} , final_score:{computer_score}\")\n",
    "result = compare(user_score,computer_score)\n",
    "print(result)"
   ]
  },
  {
   "cell_type": "code",
   "execution_count": null,
   "id": "9d67152a",
   "metadata": {},
   "outputs": [],
   "source": []
  },
  {
   "cell_type": "code",
   "execution_count": null,
   "id": "693440a6",
   "metadata": {},
   "outputs": [],
   "source": []
  },
  {
   "cell_type": "code",
   "execution_count": null,
   "id": "804dba27",
   "metadata": {},
   "outputs": [],
   "source": []
  }
 ],
 "metadata": {
  "kernelspec": {
   "display_name": "Python 3 (ipykernel)",
   "language": "python",
   "name": "python3"
  },
  "language_info": {
   "codemirror_mode": {
    "name": "ipython",
    "version": 3
   },
   "file_extension": ".py",
   "mimetype": "text/x-python",
   "name": "python",
   "nbconvert_exporter": "python",
   "pygments_lexer": "ipython3",
   "version": "3.9.7"
  }
 },
 "nbformat": 4,
 "nbformat_minor": 5
}
