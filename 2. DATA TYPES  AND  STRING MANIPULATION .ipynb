{
 "cells": [
  {
   "cell_type": "code",
   "execution_count": 1,
   "id": "4dece400",
   "metadata": {},
   "outputs": [
    {
     "name": "stdout",
     "output_type": "stream",
     "text": [
      "a\n"
     ]
    }
   ],
   "source": [
    "# string data type \n",
    "name = \"rahel\"\n",
    "number = \"7586051071\"\n",
    "print(name[1])   # pulling out a particular character by index no . this method is called subscript."
   ]
  },
  {
   "cell_type": "code",
   "execution_count": 2,
   "id": "95e0a366",
   "metadata": {},
   "outputs": [],
   "source": [
    "# integer data type (whole number)\n",
    "a = 123 \n",
    "b = 456 \n",
    "# print(a+b)"
   ]
  },
  {
   "cell_type": "code",
   "execution_count": 3,
   "id": "f26df8ee",
   "metadata": {},
   "outputs": [],
   "source": [
    "# float data type (a number with  decimal point )\n",
    "num = 3.14159"
   ]
  },
  {
   "cell_type": "code",
   "execution_count": 4,
   "id": "e92623f7",
   "metadata": {},
   "outputs": [],
   "source": [
    "# boolean data type have only two value True and False \n",
    "is_alive = True \n",
    "is_open = False "
   ]
  },
  {
   "cell_type": "code",
   "execution_count": 5,
   "id": "efeeac6d",
   "metadata": {},
   "outputs": [
    {
     "name": "stdout",
     "output_type": "stream",
     "text": [
      "<class 'int'>\n"
     ]
    }
   ],
   "source": [
    "# Type Checking \n",
    "name = \"rahel\"\n",
    "num_char = len(name)\n",
    "print(type(num_char))  # type() function used to the check the data type."
   ]
  },
  {
   "cell_type": "raw",
   "id": "c0591c9e",
   "metadata": {},
   "source": [
    "# type casting \n",
    "1. int()   # is used to converting any data type in integer data type \n",
    "2. float() # is used to converting any data type in float data type \n",
    "3. str()   # is used to converting any data type in string data type"
   ]
  },
  {
   "cell_type": "raw",
   "id": "8ee32137",
   "metadata": {},
   "source": [
    "# Mathematical Operation in Python \n",
    "1. 3+5 (addition)\n",
    "2. 7-4 (substraction)\n",
    "3. 3*2 (multiplication)\n",
    "4. 6/3 (division)\n",
    "5  3**2 (exponent)\n",
    "N.B - When we have more than one operation in a single line we should follow PEMDAS rule left to right.               "
   ]
  },
  {
   "cell_type": "code",
   "execution_count": 6,
   "id": "2d5ceab9",
   "metadata": {},
   "outputs": [
    {
     "name": "stdout",
     "output_type": "stream",
     "text": [
      "Enter your weight in kg : 81\n",
      "Enter your height in cm : 165\n",
      "your bmi is 29\n"
     ]
    }
   ],
   "source": [
    "# Day-2 project : BMI Calculator \n",
    "weight = int(input(\"Enter your weight in kg : \"))\n",
    "height = 0.01*int(input(\"Enter your height in cm : \"))\n",
    "bmi =int(weight/(height**2))\n",
    "print(f\"your bmi is {bmi}\")"
   ]
  },
  {
   "cell_type": "code",
   "execution_count": 7,
   "id": "94da6fce",
   "metadata": {},
   "outputs": [
    {
     "data": {
      "text/plain": [
       "2.67"
      ]
     },
     "execution_count": 7,
     "metadata": {},
     "output_type": "execute_result"
    }
   ],
   "source": [
    "round(2.6656666666666665,2)   # rounnd function Round a number to a given precision in decimal digits."
   ]
  },
  {
   "cell_type": "code",
   "execution_count": 8,
   "id": "279d17a9",
   "metadata": {},
   "outputs": [
    {
     "name": "stdout",
     "output_type": "stream",
     "text": [
      "Enter your age : 23\n",
      "you have 24455 days , 3484 weeks and 804 remaining\n"
     ]
    }
   ],
   "source": [
    "# Day-2 project : life in weeks \n",
    "age = int(input(\"Enter your age : \"))\n",
    "years_remaining = 90 - age \n",
    "days_remaining = 365*years_remaining \n",
    "weeks_remaining = years_remaining * 52 \n",
    "months_remaining = years_remaining*12\n",
    "message = f\"you have {days_remaining } days , {weeks_remaining} weeks and {months_remaining} remaining\"\n",
    "print(message)"
   ]
  },
  {
   "cell_type": "code",
   "execution_count": 1,
   "id": "a9b7ab9a",
   "metadata": {},
   "outputs": [
    {
     "name": "stdout",
     "output_type": "stream",
     "text": [
      "Welcome to the tip calculator.\n",
      "What was the total bill? $123.45\n",
      "What percentage tip would you like to give ? 10, 12, 0r 15?12\n",
      "138.264\n",
      "How many people to split the bill?7\n",
      "Each person should pay: $19.75\n"
     ]
    }
   ],
   "source": [
    "# Day-2 project : Tip calculator \n",
    "print(\"Welcome to the tip calculator.\")\n",
    "total_bill = float(input(\"What was the total bill? $\"))\n",
    "tip_percent = int(input(\"What percentage tip would you like to give ? 10, 12, 0r 15?\"))\n",
    "bill_after_tip = ((tip_percent/100)*total_bill)+total_bill\n",
    "print(bill_after_tip)\n",
    "people = int(input(\"How many people to split the bill?\"))\n",
    "final_bill = round(bill_after_tip/people,2)\n",
    "print(f\"Each person should pay: ${final_bill}\")"
   ]
  },
  {
   "cell_type": "code",
   "execution_count": null,
   "id": "4044f663",
   "metadata": {},
   "outputs": [],
   "source": []
  },
  {
   "cell_type": "code",
   "execution_count": null,
   "id": "63e004e5",
   "metadata": {},
   "outputs": [],
   "source": []
  },
  {
   "cell_type": "code",
   "execution_count": null,
   "id": "393a7cbc",
   "metadata": {},
   "outputs": [],
   "source": []
  }
 ],
 "metadata": {
  "kernelspec": {
   "display_name": "Python 3 (ipykernel)",
   "language": "python",
   "name": "python3"
  },
  "language_info": {
   "codemirror_mode": {
    "name": "ipython",
    "version": 3
   },
   "file_extension": ".py",
   "mimetype": "text/x-python",
   "name": "python",
   "nbconvert_exporter": "python",
   "pygments_lexer": "ipython3",
   "version": "3.9.7"
  }
 },
 "nbformat": 4,
 "nbformat_minor": 5
}
