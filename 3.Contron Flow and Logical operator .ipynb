{
 "cells": [
  {
   "cell_type": "markdown",
   "id": "053a0369",
   "metadata": {},
   "source": [
    "# control flow  if/else and conditional operator "
   ]
  },
  {
   "cell_type": "raw",
   "id": "bbd9adab",
   "metadata": {},
   "source": [
    "if condition : \n",
    "    do this             # general syntax for if else statement.\n",
    "else :\n",
    "    do this "
   ]
  },
  {
   "cell_type": "code",
   "execution_count": null,
   "id": "b6eaa579",
   "metadata": {},
   "outputs": [],
   "source": [
    "print(\"welcome to the rollercoaster!\")\n",
    "height = int(input(\"Enter yor height in cm:\"))\n",
    "if height >= 120:\n",
    "    print(\"you can ride the rollercoaster!\")\n",
    "else:\n",
    "    print(\"Sorry you can't ride the rollercoaster!\")"
   ]
  },
  {
   "cell_type": "code",
   "execution_count": null,
   "id": "67508fdb",
   "metadata": {},
   "outputs": [],
   "source": [
    "# Odd or Even coding exercise \n",
    "number = int(input(\"Enter your number:\"))\n",
    "if number%2 == 0 :\n",
    "    print(f\"{number} is a even number\")\n",
    "else:\n",
    "    print(f\"{number} is a odd number\")"
   ]
  },
  {
   "cell_type": "raw",
   "id": "0b0681b1",
   "metadata": {},
   "source": [
    " if condition :\n",
    "    if another condition:\n",
    "        do this                 # Nested if and elif statement \n",
    "    else:\n",
    "        do this \n",
    "else:\n",
    "    do this "
   ]
  },
  {
   "cell_type": "code",
   "execution_count": 2,
   "id": "a3e1b8e2",
   "metadata": {},
   "outputs": [
    {
     "name": "stdout",
     "output_type": "stream",
     "text": [
      "welcome to the rollercoaster!\n",
      "Enter yor height in cm:120\n",
      "you can ride the rollercoaster!\n",
      "Enter your age:14\n",
      "Please pay $8\n"
     ]
    }
   ],
   "source": [
    "print(\"welcome to the rollercoaster!\")\n",
    "height = int(input(\"Enter yor height in cm:\"))\n",
    "if height >= 120:\n",
    "    print(\"you can ride the rollercoaster!\")\n",
    "    age = int(input(\"Enter your age:\"))\n",
    "    if age < 12 :\n",
    "        print(\"Please pay $5\")\n",
    "    elif age <=18:\n",
    "         print(\"Please pay $8\")\n",
    "    else:\n",
    "        print(\"Please pay $12\")\n",
    "else:\n",
    "    print(\"Sorry you can't ride the rollercoaster!\")"
   ]
  },
  {
   "cell_type": "code",
   "execution_count": 12,
   "id": "fbe91985",
   "metadata": {},
   "outputs": [
    {
     "name": "stdout",
     "output_type": "stream",
     "text": [
      "Enter your weight in kg:80\n",
      "Enter your height in cm165\n",
      "your bmi is 29.38 , your  are overweight \n"
     ]
    }
   ],
   "source": [
    "# BMI Calculator coding exercise \n",
    "weight = int(input(\"Enter your weight in kg:\"))\n",
    "height = 0.01* int(input(\"Enter your height in cm\"))\n",
    "bmi = round(weight/(height**2),2)\n",
    "if bmi < 18.5:\n",
    "    print(f\"your bmi is {bmi} , your are underweight \")\n",
    "elif bmi <25:\n",
    "    print(f\"your bmi is {bmi} , your have a normalweight \")\n",
    "elif bmi< 30:\n",
    "    print(f\"your bmi is {bmi} , your  are overweight \")\n",
    "elif bmi < 35:\n",
    "    print(f\"your bmi is {bmi} , your are obese \")\n",
    "else:\n",
    "    print(f\"your bmi is {bmi} , your are clinically obese\")    "
   ]
  },
  {
   "cell_type": "code",
   "execution_count": 21,
   "id": "1bb42bb7",
   "metadata": {},
   "outputs": [
    {
     "name": "stdout",
     "output_type": "stream",
     "text": [
      "Enter your preffered year:2016\n",
      "2016 is  a leap year\n"
     ]
    }
   ],
   "source": [
    "# Leap year check \n",
    "year = int(input(\"Enter your preffered year:\"))\n",
    "if year % 4 == 0 :\n",
    "    if year % 100 == 0:\n",
    "        if year % 400 == 0:\n",
    "            print(f\"{year} is  a leap year\")\n",
    "        else:\n",
    "            print(f\"{year} is not a leap year\")\n",
    "    else:\n",
    "        print(f\"{year} is  a leap year\")\n",
    "else :\n",
    "    print(f\"{year} is not a leap year\")"
   ]
  },
  {
   "cell_type": "code",
   "execution_count": 3,
   "id": "923dde33",
   "metadata": {},
   "outputs": [
    {
     "name": "stdout",
     "output_type": "stream",
     "text": [
      "welcome to the rollercoaster!\n",
      "Enter yor height in cm:165\n",
      "You can ride the rollercoaster!\n",
      "Enter your age : 23\n",
      "you have to pay $20\n",
      "you want to include photography ? Y or N n\n",
      "Then your total bill was$20\n"
     ]
    }
   ],
   "source": [
    "bill = 0\n",
    "print(\"welcome to the rollercoaster!\")\n",
    "height = int(input(\"Enter yor height in cm:\"))\n",
    "if height >= 120:\n",
    "    print(\"You can ride the rollercoaster!\")\n",
    "    age = int(input(\"Enter your age : \"))\n",
    "    if age <=18:\n",
    "        print(\"you have to pay $10\")\n",
    "        bill+=10\n",
    "    elif age <=25:\n",
    "        print(\"you have to pay $20\")\n",
    "        bill+=20\n",
    "    else:\n",
    "        print(\"you have to pay 25\")\n",
    "        bill+=25\n",
    "    want_photo = input(\"you want to include photography ? Y or N \")\n",
    "    if want_photo ==\"y\":\n",
    "        bill+=3\n",
    "    print(f\"Then your total bill was${bill}\")\n",
    "  \n",
    "else:\n",
    "    print(\"You can't ride the rollercoaster!\")\n"
   ]
  },
  {
   "cell_type": "code",
   "execution_count": 6,
   "id": "163559b9",
   "metadata": {},
   "outputs": [
    {
     "name": "stdout",
     "output_type": "stream",
     "text": [
      "welcome to python pizza Deliveries\n",
      "What size pizza do you want ? S , M or L  L\n",
      "Do you want pepperoni ? Y or N Y\n",
      "DO you need extra chees ? Y or N N\n",
      "your bill is 28\n"
     ]
    }
   ],
   "source": [
    "# pizza order exercise \n",
    "print(\"welcome to python pizza Deliveries\")\n",
    "bill = 0 \n",
    "size = input(\"What size pizza do you want ? S , M or L  \")\n",
    "add_pepperoni = input(\"Do you want pepperoni ? Y or N \")\n",
    "extra_cheese = input(\"DO you need extra chees ? Y or N \")\n",
    "if size == \"S\":\n",
    "    bill+=15\n",
    "    if add_pepperomi == \"Y\":\n",
    "        bill+=2\n",
    "    \n",
    "    \n",
    "elif size == \"M\":\n",
    "    bill+=20\n",
    "    if add_pepperoni == \"Y\":\n",
    "        bill+=3\n",
    "    \n",
    "elif size == \"L\":\n",
    "    bill+=25\n",
    "    if add_pepperoni == \"Y\":\n",
    "        bill+=3\n",
    "if extra_cheese == \"Y\":\n",
    "    bill+=1\n",
    "print(f\"your bill is ${bill}\")"
   ]
  },
  {
   "cell_type": "code",
   "execution_count": 7,
   "id": "1ba7d74e",
   "metadata": {},
   "outputs": [
    {
     "name": "stdout",
     "output_type": "stream",
     "text": [
      "welcome to python pizza Deliveries\n",
      "What size pizza do you want ? S , M or L  L\n",
      "Do you want pepperoni ? Y or N Y\n",
      "DO you need extra chees ? Y or N Y\n",
      "your total bill was 29\n"
     ]
    }
   ],
   "source": [
    "# other way pizza order exercise \n",
    "\n",
    "print(\"welcome to python pizza Deliveries\")\n",
    "bill = 0 \n",
    "size = input(\"What size pizza do you want ? S , M or L  \")\n",
    "add_pepperoni = input(\"Do you want pepperoni ? Y or N \")\n",
    "extra_cheese = input(\"DO you need extra chees ? Y or N \")\n",
    "if size == \"S\":\n",
    "    bill+=15\n",
    "elif size == \"M\":\n",
    "    bill+=20\n",
    "elif size == \"L\":\n",
    "    bill+=25\n",
    "    \n",
    "if add_pepperoni == \"Y\":\n",
    "    if size == \"S\":\n",
    "        bill+=2\n",
    "    else :\n",
    "        bill+=3\n",
    "if extra_cheese == \"Y\":\n",
    "    bill+= 1\n",
    "    \n",
    "print(f\"your total bill was {bill}\")   "
   ]
  },
  {
   "cell_type": "markdown",
   "id": "8670c1b2",
   "metadata": {},
   "source": [
    "# logical operator"
   ]
  },
  {
   "cell_type": "code",
   "execution_count": 15,
   "id": "ec514959",
   "metadata": {},
   "outputs": [
    {
     "name": "stdout",
     "output_type": "stream",
     "text": [
      "Welcome to the Love Calculator!\n",
      "Enter your name ? \n",
      "rahel ali khandakar\n",
      "Enter your crush name?\n",
      "almina sheikh \n",
      "Your score is 45, you are alright  together.\n"
     ]
    }
   ],
   "source": [
    "# Love calculator coding exercise :\n",
    "print(\"Welcome to the Love Calculator!\")\n",
    "name1 = input(\"Enter your name ? \\n\").lower()\n",
    "name2 = input(\"Enter your crush name?\\n\").lower()  #lower() function lowercase all character in a string \n",
    "add_name = name1+name2\n",
    "t_count = add_name.count(\"t\")\n",
    "r_count = add_name.count(\"r\")\n",
    "u_count = add_name.count(\"u\")\n",
    "e_count = add_name.count(\"e\")\n",
    "true_count = t_count+r_count+u_count+e_count\n",
    "\n",
    "l_count = add_name.count(\"l\") \n",
    "o_count = add_name.count(\"o\")\n",
    "v_count = add_name.count(\"v\")\n",
    "e_count = add_name.count(\"e\")\n",
    "love_count = l_count+o_count+v_count+e_count\n",
    "\n",
    "love_score = int(str(true_count)+str(love_count))\n",
    "if love_score < 10 or love_score > 90:\n",
    "    print(f\"Your score is {love_score}, you go together like coke and mentos.\")\n",
    "elif love_score >= 40 and love_score <= 90:\n",
    "    print(f\"Your score is {love_score}, you are alright  together.\")\n",
    "else:\n",
    "    print(f\"your score is {love_score}\")"
   ]
  },
  {
   "cell_type": "code",
   "execution_count": 6,
   "id": "7a4661a7",
   "metadata": {},
   "outputs": [
    {
     "name": "stdout",
     "output_type": "stream",
     "text": [
      "Welcome to treasure island\n",
      "your mission is to find the treasure.\n",
      "You're at a crossroad. Where do you want to go? Type 'left' or 'right'right\n",
      "game over\n"
     ]
    }
   ],
   "source": [
    "# treasure island coding exercise \n",
    "print(\"Welcome to treasure island\\nyour mission is to find the treasure.\")\n",
    "direction = input(\"You're at a crossroad. Where do you want to go? Type 'left' or 'right'\")\n",
    "if direction == \"left\":\n",
    "    command = input(\"You've come to a lake. There is an island in the middle of the lake. Type 'wait' to wait for a boat. Type 'swim' to swim across.\")\n",
    "    if command == \"wait\":\n",
    "        door = input(\"You arrive at the island unharmed. There is a house with 3 doors. One red, one yellow and one blue. Which colour do you choose?\")\n",
    "        if door == \"red\":\n",
    "            print(\"its a room full of fire.Game Over \")\n",
    "        elif door == \"blue\":\n",
    "            print(\"you enter a room full of beast.Game over\")\n",
    "        else:\n",
    "            print(\"you find the treasure! you win !\")\n",
    "            \n",
    "            \n",
    "    else:\n",
    "        print(\"you got attack by an angry trout.Game over\")\n",
    "else:\n",
    "    print(\"game over\")"
   ]
  },
  {
   "cell_type": "code",
   "execution_count": null,
   "id": "bc20c654",
   "metadata": {},
   "outputs": [],
   "source": []
  }
 ],
 "metadata": {
  "kernelspec": {
   "display_name": "Python 3 (ipykernel)",
   "language": "python",
   "name": "python3"
  },
  "language_info": {
   "codemirror_mode": {
    "name": "ipython",
    "version": 3
   },
   "file_extension": ".py",
   "mimetype": "text/x-python",
   "name": "python",
   "nbconvert_exporter": "python",
   "pygments_lexer": "ipython3",
   "version": "3.9.7"
  }
 },
 "nbformat": 4,
 "nbformat_minor": 5
}
