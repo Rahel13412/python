{
 "cells": [
  {
   "cell_type": "markdown",
   "id": "06c1ff92",
   "metadata": {},
   "source": [
    "# Local vs. Global Scope"
   ]
  },
  {
   "cell_type": "code",
   "execution_count": null,
   "id": "70d7d221",
   "metadata": {},
   "outputs": [],
   "source": [
    "enemies = 1  # global scope \n",
    "def increase_enemies():\n",
    "    enemies = 2  # local scope \n",
    "    print(f\"enemies inside function {enemies}\")\n",
    "increase_enemies()\n",
    "print(f\"enemies inside function {enemies}\") "
   ]
  },
  {
   "cell_type": "code",
   "execution_count": null,
   "id": "23dfdc5d",
   "metadata": {},
   "outputs": [],
   "source": [
    "# local scope \n",
    "def drink_portion():\n",
    "    portion_strength = 2\n",
    "    print(portion_strength)\n",
    "drink_portion()\n",
    "print(portion_strength)  # give NameError: name 'portion_strength' is not defined\n"
   ]
  },
  {
   "cell_type": "code",
   "execution_count": null,
   "id": "797c1a4a",
   "metadata": {},
   "outputs": [],
   "source": [
    "# global scope \n",
    "player_health = 10 \n",
    "def drink_portion():\n",
    "    portion_strength = 2\n",
    "    print(player_health)\n",
    "drink_portion()\n"
   ]
  },
  {
   "cell_type": "code",
   "execution_count": null,
   "id": "33fcd0a3",
   "metadata": {},
   "outputs": [],
   "source": [
    "game_level = 3\n",
    "enemies = [\"skeleton\",\"zoombie\",\"alien\"]\n",
    "if game_level < 5:\n",
    "    new_enemy = enemies[0]\n",
    "print(new_enemy)"
   ]
  },
  {
   "cell_type": "markdown",
   "id": "68ec9d5f",
   "metadata": {},
   "source": [
    "# How to modify Variables with Global Scope"
   ]
  },
  {
   "cell_type": "code",
   "execution_count": null,
   "id": "acc46ca6",
   "metadata": {},
   "outputs": [],
   "source": [
    "enemies = 1  # global scope \n",
    "def increase_enemies():\n",
    "    global enemies\n",
    "    enemies+=1  # local scope \n",
    "    print(f\"enemies inside function {enemies}\")\n",
    "increase_enemies()\n",
    "print(f\"enemies inside function {enemies}\") "
   ]
  },
  {
   "cell_type": "markdown",
   "id": "7a5c4828",
   "metadata": {},
   "source": [
    "# Python Constant and Global Scope"
   ]
  },
  {
   "cell_type": "code",
   "execution_count": null,
   "id": "cd7ea203",
   "metadata": {},
   "outputs": [],
   "source": [
    "PI = 3.14\n",
    "NAME = \"rahel\""
   ]
  },
  {
   "cell_type": "code",
   "execution_count": 1,
   "id": "f25b4826",
   "metadata": {},
   "outputs": [
    {
     "name": "stdout",
     "output_type": "stream",
     "text": [
      "welcome to the number guessing game!!\n",
      "I am thinking a number between 1 to 100.\n",
      "choose your difficulty level 'easy' or 'hard' : hard\n",
      "you have 5 remaining to guess the number:\n",
      "make a guess 67\n",
      "too high\n",
      "you have 4 remaining to guess the number:\n",
      "make a guess 50\n",
      "too high\n",
      "you have 3 remaining to guess the number:\n",
      "make a guess 40\n",
      "too high\n",
      "you have 2 remaining to guess the number:\n",
      "make a guess 10\n",
      "too low\n",
      "you have 1 remaining to guess the number:\n",
      "make a guess 20\n",
      "too low\n",
      "you have run of guesses , you loose\n"
     ]
    }
   ],
   "source": [
    "import random \n",
    "\n",
    "EASY_TURN = 10 \n",
    "HARD_TURN = 5\n",
    "\n",
    "# make function to set difficulty:\n",
    "def difficulty(level):\n",
    "    if level == \"easy\":\n",
    "        return EASY_TURN\n",
    "    else:\n",
    "        return HARD_TURN\n",
    "    \n",
    "# function to check user's guess againts actual answer:\n",
    "def check_answer(answer,guess,turn):\n",
    "    if answer> guess:\n",
    "        print(\"too low\")\n",
    "        return turn -1 \n",
    "    elif answer < guess:\n",
    "        print(\"too high\")\n",
    "        return turn - 1\n",
    "        \n",
    "    else:\n",
    "        print(f\"you got it. the correct answer was {answer}\")\n",
    "\n",
    "def game():\n",
    "    print(\"welcome to the number guessing game!!\")\n",
    "    print(\"I am thinking a number between 1 to 100.\")\n",
    "    answer = random.randint(1,100)\n",
    "    level = input(\"choose your difficulty level 'easy' or 'hard' : \")\n",
    "    turn = difficulty(level)\n",
    "    guess = 0\n",
    "    while guess!=answer:\n",
    "        print(f\"you have {turn} remaining to guess the number:\")\n",
    "\n",
    "        guess = int(input(\"make a guess \"))\n",
    "        turn = check_answer(answer,guess,turn)\n",
    "        if turn == 0:\n",
    "            print(\"you have run of guesses , you loose\")\n",
    "            return\n",
    "            \n",
    "game()\n",
    "    \n",
    "    \n",
    "    \n"
   ]
  },
  {
   "cell_type": "code",
   "execution_count": null,
   "id": "3709df37",
   "metadata": {},
   "outputs": [],
   "source": []
  },
  {
   "cell_type": "code",
   "execution_count": null,
   "id": "8aa65e98",
   "metadata": {},
   "outputs": [],
   "source": []
  }
 ],
 "metadata": {
  "kernelspec": {
   "display_name": "Python 3 (ipykernel)",
   "language": "python",
   "name": "python3"
  },
  "language_info": {
   "codemirror_mode": {
    "name": "ipython",
    "version": 3
   },
   "file_extension": ".py",
   "mimetype": "text/x-python",
   "name": "python",
   "nbconvert_exporter": "python",
   "pygments_lexer": "ipython3",
   "version": "3.9.7"
  }
 },
 "nbformat": 4,
 "nbformat_minor": 5
}
