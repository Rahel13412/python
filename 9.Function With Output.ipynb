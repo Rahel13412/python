{
 "cells": [
  {
   "cell_type": "markdown",
   "id": "8cb14c78",
   "metadata": {},
   "source": [
    "# Function With Output"
   ]
  },
  {
   "cell_type": "code",
   "execution_count": 2,
   "id": "6e18fd52",
   "metadata": {},
   "outputs": [
    {
     "name": "stdout",
     "output_type": "stream",
     "text": [
      "6\n"
     ]
    }
   ],
   "source": [
    "def my_function():\n",
    "    result = 3*2\n",
    "    return result\n",
    "output = my_function()\n",
    "print(output)"
   ]
  },
  {
   "cell_type": "code",
   "execution_count": 3,
   "id": "2e05352f",
   "metadata": {},
   "outputs": [
    {
     "name": "stdout",
     "output_type": "stream",
     "text": [
      "Enter your first namerAHEL\n",
      "Enter your last nameali\n",
      "your formated name is Rahel Ali.\n"
     ]
    }
   ],
   "source": [
    "def format_name(f_name,l_name):\n",
    "    format_f_name = f_name.title()\n",
    "    format_l_name = l_name.title()\n",
    "    return f\"your formated name is {format_f_name} {format_l_name}.\"\n",
    "\n",
    "first_name = input(\"Enter your first name\")\n",
    "last_name = input(\"Enter your last name\")\n",
    "result = format_name(f_name=first_name,l_name=last_name)\n",
    "print(result)    \n",
    "    "
   ]
  },
  {
   "cell_type": "markdown",
   "id": "12a373c3",
   "metadata": {},
   "source": [
    "# Multiple Return Values"
   ]
  },
  {
   "cell_type": "code",
   "execution_count": 4,
   "id": "f4ff94a6",
   "metadata": {},
   "outputs": [
    {
     "name": "stdout",
     "output_type": "stream",
     "text": [
      "Enter your first name: rahel\n",
      "Enter your last name: \n",
      "you did not provide valid input\n"
     ]
    }
   ],
   "source": [
    "def format_name(f_name,l_name):\n",
    "    if f_name ==\"\" or l_name == \"\":\n",
    "        return \"you did not provide valid input\"\n",
    "    format_f_name = f_name.title()\n",
    "    format_l_name = l_name.title()\n",
    "    return f\"your formated name is {format_f_name} {format_l_name}.\"\n",
    "\n",
    "print(format_name(input(\"Enter your first name: \"),input(\"Enter your last name: \")))\n"
   ]
  },
  {
   "cell_type": "code",
   "execution_count": 16,
   "id": "5911b5d8",
   "metadata": {},
   "outputs": [
    {
     "name": "stdout",
     "output_type": "stream",
     "text": [
      "enter your year: 2000\n",
      "enter your month :1\n",
      "31\n"
     ]
    }
   ],
   "source": [
    "# days in a month - coding exercise\n",
    "\n",
    "def is_leap(year):\n",
    "  if year % 4 == 0:\n",
    "    if year % 100 == 0:\n",
    "      if year % 400 == 0:\n",
    "        return \"Leap year.\"\n",
    "      else:\n",
    "        return(\"Not leap year.\")\n",
    "            \n",
    "    else:\n",
    "        return \"Leap year.\"\n",
    "  else:\n",
    "    return \"Not leap year.\"\n",
    "    \n",
    "def days_in_month(year,month):\n",
    "    month_days = [31, 28, 31, 30, 31, 30, 31, 31, 30, 31, 30, 31]\n",
    "    is_leap_year = is_leap(year)\n",
    "    if is_leap_year == \"Leap year.\" and month == 2:\n",
    "        return 29 \n",
    "    return month_days[month-1]        \n",
    "input_year = int(input(\"enter your year: \")) \n",
    "input_month = int(input(\"enter your month :\"))\n",
    "        \n",
    "days = days_in_month(year=input_year,month=input_month)  \n",
    "    \n",
    "print(days)  "
   ]
  },
  {
   "cell_type": "code",
   "execution_count": null,
   "id": "c27c0229",
   "metadata": {},
   "outputs": [
    {
     "name": "stdout",
     "output_type": "stream",
     "text": [
      "What's the first number?: 3\n",
      "+\n",
      "-\n",
      "*\n",
      "/\n",
      "Pick an operation: +\n",
      "What's the next number?: 3\n",
      "3.0 + 3.0 = 6.0\n",
      "Type 'y' to continue calculating with 6.0, or type 'n' to start a new calculation: y\n",
      "Pick an operation: +\n",
      "What's the next number?: 3\n",
      "6.0 + 3.0 = 9.0\n",
      "Type 'y' to continue calculating with 9.0, or type 'n' to start a new calculation: n\n"
     ]
    }
   ],
   "source": [
    "# building calculator : - coding exercise : \n",
    "\n",
    "def add(n1, n2):\n",
    "  return n1 + n2\n",
    "\n",
    "def subtract(n1, n2):\n",
    "  return n1 - n2\n",
    "\n",
    "def multiply(n1, n2):\n",
    "  return n1 * n2\n",
    "\n",
    "def divide(n1, n2):\n",
    "  return n1 / n2\n",
    "\n",
    "operations = {\n",
    "  \"+\": add,\n",
    "  \"-\": subtract,\n",
    "  \"*\": multiply,\n",
    "  \"/\": divide\n",
    "}\n",
    "\n",
    "def calculator():\n",
    "\n",
    "  num1 = float(input(\"What's the first number?: \"))\n",
    "  for symbol in operations:\n",
    "    print(symbol)\n",
    "  should_continue = True\n",
    " \n",
    "  while should_continue:\n",
    "    operation_symbol = input(\"Pick an operation: \")\n",
    "    num2 = float(input(\"What's the next number?: \"))\n",
    "    calculation_function = operations[operation_symbol]\n",
    "    answer = calculation_function(num1, num2)\n",
    "    print(f\"{num1} {operation_symbol} {num2} = {answer}\")\n",
    "\n",
    "    if input(f\"Type 'y' to continue calculating with {answer}, or type 'n' to start a new calculation: \") == 'y':\n",
    "      num1 = answer\n",
    "    else:\n",
    "      should_continue = False\n",
    "      calculator()\n",
    "\n",
    "calculator()\n",
    "            "
   ]
  },
  {
   "cell_type": "code",
   "execution_count": null,
   "id": "5c8c9b4e",
   "metadata": {},
   "outputs": [],
   "source": []
  },
  {
   "cell_type": "code",
   "execution_count": null,
   "id": "5a6ead39",
   "metadata": {},
   "outputs": [],
   "source": []
  },
  {
   "cell_type": "code",
   "execution_count": null,
   "id": "2220a6cc",
   "metadata": {},
   "outputs": [],
   "source": []
  }
 ],
 "metadata": {
  "kernelspec": {
   "display_name": "Python 3 (ipykernel)",
   "language": "python",
   "name": "python3"
  },
  "language_info": {
   "codemirror_mode": {
    "name": "ipython",
    "version": 3
   },
   "file_extension": ".py",
   "mimetype": "text/x-python",
   "name": "python",
   "nbconvert_exporter": "python",
   "pygments_lexer": "ipython3",
   "version": "3.9.7"
  }
 },
 "nbformat": 4,
 "nbformat_minor": 5
}
