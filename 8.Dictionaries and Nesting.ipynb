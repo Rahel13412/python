{
 "cells": [
  {
   "cell_type": "markdown",
   "id": "9fc4863e",
   "metadata": {},
   "source": [
    "# Dictionaries"
   ]
  },
  {
   "cell_type": "code",
   "execution_count": 7,
   "id": "ddd1d14c",
   "metadata": {},
   "outputs": [],
   "source": [
    "my_dictionaries = {\n",
    "    \"name\":\"rahel\",\n",
    "    \"college\":\"Burdwan Raj College\",\n",
    "    \"number\":7586051071\n",
    "}"
   ]
  },
  {
   "cell_type": "code",
   "execution_count": 8,
   "id": "63d5e0ae",
   "metadata": {},
   "outputs": [
    {
     "data": {
      "text/plain": [
       "7586051071"
      ]
     },
     "execution_count": 8,
     "metadata": {},
     "output_type": "execute_result"
    }
   ],
   "source": [
    "my_dictionaries[\"number\"]       # retrieve value from the dictionaries using key "
   ]
  },
  {
   "cell_type": "code",
   "execution_count": 9,
   "id": "44020688",
   "metadata": {},
   "outputs": [],
   "source": [
    "my_dictionaries[\"year\"] = 2021   # adding new value to thr dictionaries "
   ]
  },
  {
   "cell_type": "code",
   "execution_count": 10,
   "id": "af103806",
   "metadata": {},
   "outputs": [
    {
     "data": {
      "text/plain": [
       "{'name': 'rahel',\n",
       " 'college': 'Burdwan Raj College',\n",
       " 'number': 7586051071,\n",
       " 'year': 2021}"
      ]
     },
     "execution_count": 10,
     "metadata": {},
     "output_type": "execute_result"
    }
   ],
   "source": [
    "my_dictionaries"
   ]
  },
  {
   "cell_type": "code",
   "execution_count": 11,
   "id": "25c1bf43",
   "metadata": {},
   "outputs": [],
   "source": [
    "empty_dictionaries = {}  # create an empty dictionaries "
   ]
  },
  {
   "cell_type": "code",
   "execution_count": 12,
   "id": "701826e8",
   "metadata": {},
   "outputs": [
    {
     "data": {
      "text/plain": [
       "{'name': 'rahel',\n",
       " 'college': 'Burdwan Raj College',\n",
       " 'number': 7585098950,\n",
       " 'year': 2021}"
      ]
     },
     "execution_count": 12,
     "metadata": {},
     "output_type": "execute_result"
    }
   ],
   "source": [
    "my_dictionaries[\"number\"]= 7585098950  # edit value in dictionaries \n",
    "my_dictionaries"
   ]
  },
  {
   "cell_type": "code",
   "execution_count": 14,
   "id": "797353ea",
   "metadata": {},
   "outputs": [
    {
     "name": "stdout",
     "output_type": "stream",
     "text": [
      "rahel\n",
      "Burdwan Raj College\n",
      "7585098950\n",
      "2021\n"
     ]
    }
   ],
   "source": [
    "for key in my_dictionaries:            # loop through a dictionaries \n",
    "    value = my_dictionaries[key]\n",
    "    print(value)"
   ]
  },
  {
   "cell_type": "code",
   "execution_count": 24,
   "id": "97079df6",
   "metadata": {},
   "outputs": [
    {
     "name": "stdout",
     "output_type": "stream",
     "text": [
      "{'Harry': 'Exceed Expectation', 'Ron': 'Acceptable', 'Hermione': 'outstanding', 'Draco': 'Acceptable', 'Neville': 'Fail'}\n"
     ]
    }
   ],
   "source": [
    "# Grading Program - coding exercise :\n",
    "student_scores = {\n",
    "  \"Harry\": 81,\n",
    "  \"Ron\": 78,\n",
    "  \"Hermione\": 99, \n",
    "  \"Draco\": 74,\n",
    "  \"Neville\": 62,\n",
    "}\n",
    "\n",
    "student_grades = {}\n",
    "for key in student_scores:\n",
    "    value = student_scores[key]\n",
    "    if value >90 :\n",
    "        student_grades[key] = \"outstanding\"\n",
    "    elif value > 80:\n",
    "        student_grades[key] = \"Exceed Expectation\"\n",
    "    elif value > 70:\n",
    "        student_grades[key] = \"Acceptable\"\n",
    "    else:\n",
    "        student_grades[key] = \"Fail\"\n",
    "\n",
    "print(student_grades)    "
   ]
  },
  {
   "cell_type": "markdown",
   "id": "62641158",
   "metadata": {},
   "source": [
    "# Nesting "
   ]
  },
  {
   "cell_type": "code",
   "execution_count": 27,
   "id": "5263b443",
   "metadata": {},
   "outputs": [],
   "source": [
    "# nesting in a dictionaries:\n",
    "travel_log = {\n",
    "    \"France\":{\"cities_visited\":[\"paris\",\"lille\",\"dijon\"]},\n",
    "    \"India\":{\"cities_visited\":[\"kolkata\",\"delhi\",\"mumbai\"]}\n",
    "}\n",
    "\n",
    "# nesting in a list:\n",
    "travel_log_ = [\n",
    "    {\"country\":\"France\",\"cities_visited\":[\"paris\",\"lille\",\"dijon\"],\"total_visit\":12},\n",
    "    {\"country\":\"India\",\"cities_visited\":[\"kolkata\",\"delhi\",\"mumbai\"],\"total_visit\":10}\n",
    "]"
   ]
  },
  {
   "cell_type": "code",
   "execution_count": 2,
   "id": "92393a8b",
   "metadata": {},
   "outputs": [
    {
     "name": "stdout",
     "output_type": "stream",
     "text": [
      "[{'country': 'France', 'visits': 12, 'cities': ['Paris', 'Lille', 'Dijon']}, {'country': 'Germany', 'visits': 5, 'cities': ['Berlin', 'Hamburg', 'Stuttgart']}, {'country': 'Russia', 'visits': 2, 'cities': ['Moscow', 'Saint Petersburg']}]\n"
     ]
    }
   ],
   "source": [
    "# adding dictionaries in list :\n",
    "travel_log = [\n",
    "{\n",
    "  \"country\": \"France\",\n",
    "  \"visits\": 12,\n",
    "  \"cities\": [\"Paris\", \"Lille\", \"Dijon\"]\n",
    "},\n",
    "{\n",
    "  \"country\": \"Germany\",\n",
    "  \"visits\": 5,\n",
    "  \"cities\": [\"Berlin\", \"Hamburg\", \"Stuttgart\"]\n",
    "},\n",
    "]\n",
    "my_dictionaries = {}\n",
    "def add_new_country(country,number_of_visit,cities_list):\n",
    "    my_dictionaries[\"country\"] = country\n",
    "    my_dictionaries[\"visits\"] = number_of_visit\n",
    "    my_dictionaries[\"cities\"] = cities_list\n",
    "    travel_log.append(my_dictionaries)\n",
    "    \n",
    "  \n",
    "add_new_country(\"Russia\", 2, [\"Moscow\", \"Saint Petersburg\"])\n",
    "print(travel_log)\n",
    "\n",
    "\n"
   ]
  },
  {
   "cell_type": "code",
   "execution_count": 1,
   "id": "f50d7c8a",
   "metadata": {},
   "outputs": [
    {
     "name": "stdout",
     "output_type": "stream",
     "text": [
      "enter your name rahel\n",
      "enter your bid price 123\n",
      "Are there any others bidder 'Yes' or 'No':y\n",
      "enter your name tamu\n",
      "enter your bid price 456\n",
      "Are there any others bidder 'Yes' or 'No':y\n",
      "enter your name khusi\n",
      "enter your bid price 567\n",
      "Are there any others bidder 'Yes' or 'No':n\n",
      "The winner id khusi with a bid of $567\n"
     ]
    }
   ],
   "source": [
    "bids = {}\n",
    "continue_bidding = True\n",
    "\n",
    "def find_highest_bidder(bidding_record):\n",
    "    highest_number = 0\n",
    "    for bidder in bidding_record:\n",
    "        bid_amount = bidding_record[bidder]\n",
    "        if bid_amount > highest_number:\n",
    "            highest_number = bid_amount\n",
    "            winner = bidder\n",
    "    print(f\"The winner id {winner} with a bid of ${highest_number}\")\n",
    "        \n",
    "\n",
    "while continue_bidding:\n",
    "    name = input(\"enter your name \")\n",
    "    price = int(input(\"enter your bid price \"))\n",
    "    bids[name]= price\n",
    "    user_input = input(\"Are there any others bidder 'Yes' or 'No':\")\n",
    "    if user_input == \"n\":\n",
    "        continue_bidding = False\n",
    "        find_highest_bidder(bids)"
   ]
  },
  {
   "cell_type": "code",
   "execution_count": null,
   "id": "8a0501ff",
   "metadata": {},
   "outputs": [],
   "source": []
  }
 ],
 "metadata": {
  "kernelspec": {
   "display_name": "Python 3 (ipykernel)",
   "language": "python",
   "name": "python3"
  },
  "language_info": {
   "codemirror_mode": {
    "name": "ipython",
    "version": 3
   },
   "file_extension": ".py",
   "mimetype": "text/x-python",
   "name": "python",
   "nbconvert_exporter": "python",
   "pygments_lexer": "ipython3",
   "version": "3.9.7"
  }
 },
 "nbformat": 4,
 "nbformat_minor": 5
}
