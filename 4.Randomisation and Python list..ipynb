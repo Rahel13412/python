{
 "cells": [
  {
   "cell_type": "markdown",
   "id": "cc23567f",
   "metadata": {},
   "source": [
    "# Random module"
   ]
  },
  {
   "cell_type": "code",
   "execution_count": 22,
   "id": "ab912536",
   "metadata": {},
   "outputs": [],
   "source": [
    "import random"
   ]
  },
  {
   "cell_type": "code",
   "execution_count": 23,
   "id": "4dbd336f",
   "metadata": {},
   "outputs": [
    {
     "name": "stdout",
     "output_type": "stream",
     "text": [
      "your random integer is 14\n"
     ]
    }
   ],
   "source": [
    "random_integer = random.randint(10,20)     # start and end inclusive \n",
    "print(f\"your random integer is {random_integer}\")"
   ]
  },
  {
   "cell_type": "raw",
   "id": "835ec369",
   "metadata": {},
   "source": [
    "1.what exactly is module ?\n",
    "Ans: module are the simply files with the \".py\" extension containing python code that can be imported\n",
    "inside another python program. "
   ]
  },
  {
   "cell_type": "code",
   "execution_count": 24,
   "id": "9d3aed26",
   "metadata": {},
   "outputs": [
    {
     "data": {
      "text/plain": [
       "0.9074871698456412"
      ]
     },
     "execution_count": 24,
     "metadata": {},
     "output_type": "execute_result"
    }
   ],
   "source": [
    "random_float = random.random()   #gives floating point number between o to 1\n",
    "random_float"
   ]
  },
  {
   "cell_type": "markdown",
   "id": "420964d5",
   "metadata": {},
   "source": [
    "# python list "
   ]
  },
  {
   "cell_type": "raw",
   "id": "9f9e0bd9",
   "metadata": {},
   "source": [
    "A list is a data structure in python that is mutable or changeable , order sequences of elements . \n",
    "Each element or value that is inside of a list is called item \n",
    "\n",
    "General Syntax : list = [\"item1\", 5 , 8 , 20.23]"
   ]
  },
  {
   "cell_type": "code",
   "execution_count": 25,
   "id": "360c6a53",
   "metadata": {},
   "outputs": [],
   "source": [
    "fruit_name = [\"bananna\", \"apple\" , \"mango\", \"jackfruit\",\"grapes\"]"
   ]
  },
  {
   "cell_type": "code",
   "execution_count": 26,
   "id": "97e275a3",
   "metadata": {},
   "outputs": [
    {
     "data": {
      "text/plain": [
       "'bananna'"
      ]
     },
     "execution_count": 26,
     "metadata": {},
     "output_type": "execute_result"
    }
   ],
   "source": [
    "fruit_name[0]    #  0 is the index number "
   ]
  },
  {
   "cell_type": "code",
   "execution_count": 27,
   "id": "8987807d",
   "metadata": {},
   "outputs": [
    {
     "data": {
      "text/plain": [
       "'grapes'"
      ]
     },
     "execution_count": 27,
     "metadata": {},
     "output_type": "execute_result"
    }
   ],
   "source": [
    "fruit_name[-1]   # negeative indexing "
   ]
  },
  {
   "cell_type": "code",
   "execution_count": 28,
   "id": "673f44b0",
   "metadata": {},
   "outputs": [
    {
     "data": {
      "text/plain": [
       "['cherry', 'apple', 'mango', 'jackfruit', 'grapes']"
      ]
     },
     "execution_count": 28,
     "metadata": {},
     "output_type": "execute_result"
    }
   ],
   "source": [
    "fruit_name[0] = \"cherry\"   # changeing values \n",
    "fruit_name "
   ]
  },
  {
   "cell_type": "code",
   "execution_count": 29,
   "id": "b288f305",
   "metadata": {},
   "outputs": [],
   "source": [
    "fruit_name.append(\"watermelon\")"
   ]
  },
  {
   "cell_type": "code",
   "execution_count": 30,
   "id": "11e2b6ec",
   "metadata": {},
   "outputs": [
    {
     "data": {
      "text/plain": [
       "['cherry', 'apple', 'mango', 'jackfruit', 'grapes', 'watermelon']"
      ]
     },
     "execution_count": 30,
     "metadata": {},
     "output_type": "execute_result"
    }
   ],
   "source": [
    "fruit_name "
   ]
  },
  {
   "cell_type": "code",
   "execution_count": 31,
   "id": "2c747498",
   "metadata": {},
   "outputs": [
    {
     "data": {
      "text/plain": [
       "['cherry', 'apple', 'mango', 'jackfruit', 'grapes', 'watermelon']"
      ]
     },
     "execution_count": 31,
     "metadata": {},
     "output_type": "execute_result"
    }
   ],
   "source": [
    "fruit_name.copy()"
   ]
  },
  {
   "cell_type": "code",
   "execution_count": 32,
   "id": "dca7af26",
   "metadata": {},
   "outputs": [
    {
     "data": {
      "text/plain": [
       "1"
      ]
     },
     "execution_count": 32,
     "metadata": {},
     "output_type": "execute_result"
    }
   ],
   "source": [
    "fruit_name.count(\"grapes\")"
   ]
  },
  {
   "cell_type": "code",
   "execution_count": 33,
   "id": "fe0b0d00",
   "metadata": {},
   "outputs": [
    {
     "data": {
      "text/plain": [
       "4"
      ]
     },
     "execution_count": 33,
     "metadata": {},
     "output_type": "execute_result"
    }
   ],
   "source": [
    "fruit_name.index(\"grapes\")"
   ]
  },
  {
   "cell_type": "code",
   "execution_count": 34,
   "id": "4cfb2700",
   "metadata": {},
   "outputs": [],
   "source": [
    "fruit_name.insert(1,2)"
   ]
  },
  {
   "cell_type": "code",
   "execution_count": 35,
   "id": "a5a33890",
   "metadata": {},
   "outputs": [
    {
     "data": {
      "text/plain": [
       "['cherry', 2, 'apple', 'mango', 'jackfruit', 'grapes', 'watermelon']"
      ]
     },
     "execution_count": 35,
     "metadata": {},
     "output_type": "execute_result"
    }
   ],
   "source": [
    "fruit_name"
   ]
  },
  {
   "cell_type": "code",
   "execution_count": 36,
   "id": "a8159007",
   "metadata": {},
   "outputs": [
    {
     "data": {
      "text/plain": [
       "2"
      ]
     },
     "execution_count": 36,
     "metadata": {},
     "output_type": "execute_result"
    }
   ],
   "source": [
    "fruit_name.pop(1)"
   ]
  },
  {
   "cell_type": "code",
   "execution_count": 40,
   "id": "db74d642",
   "metadata": {},
   "outputs": [
    {
     "data": {
      "text/plain": [
       "['cherry', 'apple', 'mango', 'jackfruit', 'grapes']"
      ]
     },
     "execution_count": 40,
     "metadata": {},
     "output_type": "execute_result"
    }
   ],
   "source": [
    "fruit_name"
   ]
  },
  {
   "cell_type": "code",
   "execution_count": 41,
   "id": "448bf943",
   "metadata": {},
   "outputs": [
    {
     "data": {
      "text/plain": [
       "['cherry', 'apple', 'jackfruit', 'grapes']"
      ]
     },
     "execution_count": 41,
     "metadata": {},
     "output_type": "execute_result"
    }
   ],
   "source": [
    "fruit_name.remove(\"mango\")\n",
    "fruit_name"
   ]
  },
  {
   "cell_type": "code",
   "execution_count": 42,
   "id": "1a9109ac",
   "metadata": {},
   "outputs": [],
   "source": [
    "fruit_name.reverse()"
   ]
  },
  {
   "cell_type": "code",
   "execution_count": 43,
   "id": "cec26733",
   "metadata": {},
   "outputs": [
    {
     "data": {
      "text/plain": [
       "['grapes', 'jackfruit', 'apple', 'cherry']"
      ]
     },
     "execution_count": 43,
     "metadata": {},
     "output_type": "execute_result"
    }
   ],
   "source": [
    "fruit_name"
   ]
  },
  {
   "cell_type": "code",
   "execution_count": 44,
   "id": "1e570959",
   "metadata": {},
   "outputs": [
    {
     "data": {
      "text/plain": [
       "[]"
      ]
     },
     "execution_count": 44,
     "metadata": {},
     "output_type": "execute_result"
    }
   ],
   "source": [
    "fruit_name.clear()\n",
    "fruit_name"
   ]
  },
  {
   "cell_type": "code",
   "execution_count": 6,
   "id": "452b45de",
   "metadata": {},
   "outputs": [
    {
     "name": "stdout",
     "output_type": "stream",
     "text": [
      "Give me everybody's names , seperated by comma.khusi,tamanna,rexona\n",
      "khusi is going to pay the bill.\n"
     ]
    }
   ],
   "source": [
    "# Banker Roulette - who will pay the bill coding exercise \n",
    "import random\n",
    "name_string = input(\"Give me everybody's names , seperated by comma.\").split(\",\")\n",
    "random_index = random.randint(0,(len(name_string)-1))\n",
    "random_name = name_string[random_index]\n",
    "print(f\"{random_name} is going to pay the bill.\")"
   ]
  },
  {
   "cell_type": "code",
   "execution_count": 11,
   "id": "6c86ad25",
   "metadata": {},
   "outputs": [
    {
     "name": "stdout",
     "output_type": "stream",
     "text": [
      "rahel\n"
     ]
    }
   ],
   "source": [
    "import random \n",
    "name = [\"rahel\",\"tamanna\",\"khusi\",\"khusbu\",\"rexona\"] # random.choice() return random item from a list \n",
    "print(random.choice(name))"
   ]
  },
  {
   "cell_type": "code",
   "execution_count": 12,
   "id": "d1eb1d14",
   "metadata": {},
   "outputs": [
    {
     "data": {
      "text/plain": [
       "[['apple', 'bananna', 'jackfruit', 'grapes'],\n",
       " ['spinach', 'kale', 'Tomatoes', 'potatoes']]"
      ]
     },
     "execution_count": 12,
     "metadata": {},
     "output_type": "execute_result"
    }
   ],
   "source": [
    "fruits = [\"apple\",\"bananna\",\"jackfruit\",\"grapes\"]\n",
    "vegetables = [\"spinach\",\"kale\",\"Tomatoes\",\"potatoes\"]\n",
    "dirty_dozen = [fruits,vegetables]\n",
    "dirty_dozen"
   ]
  },
  {
   "cell_type": "code",
   "execution_count": 30,
   "id": "8dca1dae",
   "metadata": {},
   "outputs": [
    {
     "name": "stdout",
     "output_type": "stream",
     "text": [
      "['*', '*', '*']\n",
      "['*', '*', '*']\n",
      "['*', '*', '*']\n",
      "enter two digit number13\n",
      "['*', '*', '@']\n",
      "['*', '*', '*']\n",
      "['*', '*', '*']\n"
     ]
    }
   ],
   "source": [
    "# Treasure map \n",
    "row1 = [\"*\",\"*\",\"*\"]\n",
    "row2 = [\"*\",\"*\",\"*\"]\n",
    "row3 = [\"*\",\"*\",\"*\"]\n",
    "map_1 =[row1,row2,row3]\n",
    "print(f\"{row1}\\n{row2}\\n{row3}\")\n",
    "position = input(\"enter two digit number\")\n",
    "row = int(position[0])\n",
    "column = int(position[1])\n",
    "map_1[row-1][column-1] = \"@\"\n",
    "print(f\"{map_1[0]}\\n{map_1[1]}\\n{map_1[2]}\")"
   ]
  },
  {
   "cell_type": "code",
   "execution_count": null,
   "id": "fefccf91",
   "metadata": {},
   "outputs": [],
   "source": []
  },
  {
   "cell_type": "code",
   "execution_count": null,
   "id": "5f220ecf",
   "metadata": {},
   "outputs": [],
   "source": []
  },
  {
   "cell_type": "code",
   "execution_count": null,
   "id": "3fc3ab07",
   "metadata": {},
   "outputs": [],
   "source": []
  }
 ],
 "metadata": {
  "kernelspec": {
   "display_name": "Python 3 (ipykernel)",
   "language": "python",
   "name": "python3"
  },
  "language_info": {
   "codemirror_mode": {
    "name": "ipython",
    "version": 3
   },
   "file_extension": ".py",
   "mimetype": "text/x-python",
   "name": "python",
   "nbconvert_exporter": "python",
   "pygments_lexer": "ipython3",
   "version": "3.9.7"
  }
 },
 "nbformat": 4,
 "nbformat_minor": 5
}
